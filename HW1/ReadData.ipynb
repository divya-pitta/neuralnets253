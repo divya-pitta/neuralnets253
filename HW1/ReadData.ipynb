{
 "cells": [
  {
   "cell_type": "code",
   "execution_count": 3,
   "metadata": {},
   "outputs": [],
   "source": [
    "from mnist import MNIST\n",
    "mndata = MNIST('C:\\\\Users\\\\Divya\\\\Google Drive\\\\Acads\\\\Courses-Winter2018\\\\CSE253-NeuralNetworks\\\\neuralnets253\\\\HW1')\n",
    "mndata.gz = True\n",
    "images, labels = mndata.load_training() #Images is a list of 60000 images of 784 dimensions, Labels is a list of 6000 ints"
   ]
  }
 ],
 "metadata": {
  "kernelspec": {
   "display_name": "Python 3",
   "language": "python",
   "name": "python3"
  }
 },
 "nbformat": 4,
 "nbformat_minor": 2
}
