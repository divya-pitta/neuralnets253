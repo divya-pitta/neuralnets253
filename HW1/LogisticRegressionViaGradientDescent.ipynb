{
 "cells": [
  {
   "cell_type": "code",
   "execution_count": 2,
   "metadata": {
    "collapsed": true
   },
   "outputs": [],
   "source": [
    "from mnist import MNIST\n",
    "mndata = MNIST('C:\\\\Users\\\\Divya\\\\Google Drive\\\\Acads\\\\Courses-Winter2018\\\\CSE253-NeuralNetworks\\\\neuralnets253\\\\HW1')\n",
    "mndata.gz = True\n",
    "images, labels = mndata.load_training() #Images is a list of 60k images of 784 dimensions, Labels is a list of 60k ints\n",
    "testImages, testLabels = mndata.load_testing() #testImages is a list of 10k images of 784 dimensions, testLabels is a list of 10k ints"
   ]
  },
  {
   "cell_type": "code",
   "execution_count": 5,
   "metadata": {
    "collapsed": true
   },
   "outputs": [],
   "source": [
    "trainImages = images[:20000]\n",
    "trainLabels = labels[:20000]\n",
    "testImgs = testImages[-2000:]\n",
    "testLbls = testLabels[-2000:]"
   ]
  },
  {
   "cell_type": "code",
   "execution_count": null,
   "metadata": {
    "collapsed": true
   },
   "outputs": [],
   "source": []
  }
 ],
 "metadata": {
  "kernelspec": {
   "display_name": "Python 3",
   "language": "python",
   "name": "python3"
  },
  "language_info": {
   "codemirror_mode": {
    "name": "ipython",
    "version": 3
   },
   "file_extension": ".py",
   "mimetype": "text/x-python",
   "name": "python",
   "nbconvert_exporter": "python",
   "pygments_lexer": "ipython3",
   "version": "3.6.3"
  }
 },
 "nbformat": 4,
 "nbformat_minor": 2
}
