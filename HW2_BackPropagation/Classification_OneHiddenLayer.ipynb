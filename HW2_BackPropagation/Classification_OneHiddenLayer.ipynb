{
 "cells": [
  {
   "cell_type": "code",
   "execution_count": 29,
   "metadata": {},
   "outputs": [],
   "source": [
    "from mnist import MNIST\n",
    "import numpy as np\n",
    "import math\n",
    "mndata = MNIST('C:\\\\Users\\\\Divya\\\\Google Drive\\\\Acads\\\\Courses-Winter2018\\\\CSE253-NeuralNetworks\\\\neuralnets253')\n",
    "mndata.gz = True\n",
    "images, labels = mndata.load_training() #Images is a list of 60000 images of 784 dimensions, Labels is a list of 60000 ints\n",
    "testImages, testLabels = mndata.load_testing()"
   ]
  },
  {
   "cell_type": "code",
   "execution_count": 30,
   "metadata": {},
   "outputs": [],
   "source": [
    "def addBiasToInput(imgs, tstImgs):\n",
    "    imgs = np.array(imgs)\n",
    "    tstImgs = np.array(tstImgs)\n",
    "    imgs = np.insert(imgs, 0, 1, axis=1)\n",
    "    tstImgs = np.insert(tstImgs, 0, 1, axis=1)\n",
    "    return imgs, tstImgs\n",
    "    \n",
    "def roughZScoring(imgs, tstImgs):\n",
    "    imgs = (imgs/127.5)-1.0\n",
    "    tstImgs = (tstImgs/127.5)-1.0\n",
    "    return imgs, tstImgs\n",
    "\n",
    "def sigmoid(x):\n",
    "    return 1/(1+math.exp(-1*x))\n",
    "\n",
    "def derSigmoid(x):\n",
    "    return sigmoid(x)*(1-sigmoid(x))"
   ]
  },
  {
   "cell_type": "code",
   "execution_count": 31,
   "metadata": {},
   "outputs": [],
   "source": [
    "images, testImages = addBiasToInput(images, testImages)\n",
    "images, testImages = roughZScoring(images, testImages)\n",
    "hiddenUnits = 64\n",
    "inputDims = len(images[0])\n",
    "miniBatchSize = 128"
   ]
  },
  {
   "cell_type": "code",
   "execution_count": null,
   "metadata": {
    "collapsed": true
   },
   "outputs": [],
   "source": [
    "weightIJ = np.array((inputDims, hiddenUnits)))\n",
    "weightJK = np.array()"
   ]
  }
 ],
 "metadata": {
  "kernelspec": {
   "display_name": "Python 3",
   "language": "python",
   "name": "python3"
  },
  "language_info": {
   "codemirror_mode": {
    "name": "ipython",
    "version": 3
   },
   "file_extension": ".py",
   "mimetype": "text/x-python",
   "name": "python",
   "nbconvert_exporter": "python",
   "pygments_lexer": "ipython3",
   "version": "3.6.3"
  }
 },
 "nbformat": 4,
 "nbformat_minor": 2
}
